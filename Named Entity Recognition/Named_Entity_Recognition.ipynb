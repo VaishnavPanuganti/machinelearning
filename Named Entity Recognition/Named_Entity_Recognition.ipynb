{
  "nbformat": 4,
  "nbformat_minor": 0,
  "metadata": {
    "colab": {
      "provenance": []
    },
    "kernelspec": {
      "name": "python3",
      "display_name": "Python 3"
    },
    "language_info": {
      "name": "python"
    }
  },
  "cells": [
    {
      "cell_type": "markdown",
      "source": [
        "# **NAMED ENTITY RECOGNITION (NER)**"
      ],
      "metadata": {
        "id": "1E6EwM-ORspa"
      }
    },
    {
      "cell_type": "markdown",
      "source": [
        "# **Introduction**\n",
        "As part of the final project for the AI 3 we have done project on Named Entity Recognition (NER). NER is used extensively in biomedical data for gene identification, DNA identification, and also the identification of drug names and disease names."
      ],
      "metadata": {
        "id": "DCbj65ZUnu9r"
      }
    },
    {
      "cell_type": "markdown",
      "source": [
        "Name of the participant : Vaishnav Panuganti"
      ],
      "metadata": {
        "id": "jwbSLJrUH1ZZ"
      }
    },
    {
      "cell_type": "markdown",
      "source": [
        "The first part of the project is to load the datasets and check the data and then create an NER model that identifies key tokens and classifies them into set of predefined entities.\n",
        "\n",
        "**Data Resources:**\n",
        "\n",
        "The data : https://huggingface.co/datasets/fgrezes/WIESP2022-NER\n",
        "\n",
        "**Problem Statement :**\n",
        "\n",
        "**Information Extraction From Scientific Publication**\n",
        "\n",
        "Named Entity Recognition (NER) is one of the most popular applications of Natural Language Processing. For the scope of this project, we will focus on creating a NER model that identifies key tokens and classifies them into set of predefined entities.\n",
        "\n",
        "The number of scientific papers published per year has exploded in recent years, strengthening its value as one of the main drivers for scientific progress. In astronomy alone, more than 41,000 new articles are published every year and the vast majority are available either via an open-access model or via pre-print services. Indexing the article’s full-text in search engines helps discover and retrieve vital scientific information to continue building on the shoulders of giants, informing policy, and making evidence-based decisions. Nevertheless, it is difficult to navigate in this ocean of data; finding articles rely heavily on string matching searches and following citations/references. NER helps us extract key information from scientific papers which can help search engines to better select and filter articles.\n",
        "\n",
        "**Motivation to the project :**\n",
        "\n",
        "The given dataset is used to define and train the models like\n",
        "SimpleRNN, GRU and LSTM models.\n",
        "\n",
        "Train the models and check for the accuracy, f1-score, precision etc since the data is imbalanced dataset.\n"
      ],
      "metadata": {
        "id": "unj_PTusIDOs"
      }
    },
    {
      "cell_type": "markdown",
      "source": [
        "Note :\n",
        "\n",
        "Greetings sir/ma'am ,\n",
        "\n",
        "As my group members were unavailable during the project , I tried and attempted to fulfill the  project requirements.\n",
        "Due to time constraints, I have used the following reference for a code  upto the plot.\n",
        "\n",
        "Kindly , I hope you to acknowledge the same .\n",
        "Thank you\n",
        "\n",
        "Github link:\n",
        "https://github.com/Alok-pandey-09/Named_Entity_Recognition"
      ],
      "metadata": {
        "id": "BBCUvgXDKx64"
      }
    },
    {
      "cell_type": "markdown",
      "source": [
        "**Imports**"
      ],
      "metadata": {
        "id": "c-Jr50VnKn-J"
      }
    },
    {
      "cell_type": "code",
      "execution_count": null,
      "metadata": {
        "id": "q9F8BlXhOEjZ"
      },
      "outputs": [],
      "source": [
        "import requests\n",
        "import re\n",
        "import os\n",
        "import zipfile\n",
        "import collections\n",
        "import numpy as np\n",
        "import pandas as pd\n",
        "import urllib.request\n",
        "import matplotlib.pyplot as plt\n",
        "from collections import defaultdict\n",
        "%matplotlib inline\n",
        "from IPython.core.display import HTML\n",
        "from collections import defaultdict\n",
        "import time\n",
        "import random\n",
        "from collections import Counter\n",
        "import tensorflow as tf\n",
        "from tensorflow import keras\n",
        "from tensorflow.python.keras import backend as K\n",
        "from tensorflow.keras.models import Model\n",
        "from pandas import json_normalize\n",
        "import json\n",
        "from tensorflow.keras.preprocessing import sequence\n",
        "from sklearn.model_selection import train_test_split\n",
        "from tensorflow.keras.models import Model,Sequential\n",
        "from tensorflow.keras.layers import Dense,LSTM,GRU,Embedding,Flatten,Input\n",
        "from tensorflow.keras import layers\n",
        "from sklearn.metrics import classification_report,recall_score,precision_score,f1_score\n",
        "import tensorflow_hub as hub\n",
        "from transformers import BertTokenizer, TFBertForSequenceClassification, BertConfig\n",
        "#import tensorflow_text as text"
      ]
    },
    {
      "cell_type": "markdown",
      "source": [
        "**Verify Setup**\n",
        "\n",
        "It is a good practice to verify what version of TensorFlow & Keras you are using. Also verify if GPU is enabled and what GPU you have. Run the following cells to check the version of TensorFlow"
      ],
      "metadata": {
        "id": "7bsZDiFaKzGZ"
      }
    },
    {
      "cell_type": "code",
      "source": [
        "# Enable/Disable Eager Execution\n",
        "# Reference: https://www.tensorflow.org/guide/eager\n",
        "# TensorFlow's eager execution is an imperative programming environment that evaluates operations immediately, \n",
        "# without building graphs\n",
        "\n",
        "#tf.compat.v1.disable_eager_execution()\n",
        "#tf.compat.v1.enable_eager_execution()\n",
        "\n",
        "print(\"tensorflow version\", tf.__version__)\n",
        "print(\"keras version\", tf.keras.__version__)\n",
        "print(\"Eager Execution Enabled:\", tf.executing_eagerly())\n",
        "\n",
        "# Get the number of replicas \n",
        "strategy = tf.distribute.MirroredStrategy()\n",
        "print(\"Number of replicas:\", strategy.num_replicas_in_sync)\n",
        "\n",
        "devices = tf.config.experimental.get_visible_devices()\n",
        "print(\"Devices:\", devices)\n",
        "print(tf.config.experimental.list_logical_devices('GPU'))\n",
        "\n",
        "print(\"GPU Available: \", tf.config.list_physical_devices('GPU'))\n",
        "print(\"All Physical Devices\", tf.config.list_physical_devices())\n",
        "\n",
        "# Better performance with the tf.data API\n",
        "# Reference: https://www.tensorflow.org/guide/data_performance\n",
        "AUTOTUNE = tf.data.experimental.AUTOTUNE"
      ],
      "metadata": {
        "colab": {
          "base_uri": "https://localhost:8080/"
        },
        "id": "5POPn1caOFGc",
        "outputId": "659c1a87-51c8-4bef-c41d-ad4e27993471"
      },
      "execution_count": null,
      "outputs": [
        {
          "output_type": "stream",
          "name": "stderr",
          "text": [
            "WARNING:tensorflow:There are non-GPU devices in `tf.distribute.Strategy`, not using nccl allreduce.\n"
          ]
        },
        {
          "output_type": "stream",
          "name": "stdout",
          "text": [
            "tensorflow version 2.8.2\n",
            "keras version 2.8.0\n",
            "Eager Execution Enabled: True\n",
            "Number of replicas: 1\n",
            "Devices: [PhysicalDevice(name='/physical_device:CPU:0', device_type='CPU')]\n",
            "[]\n",
            "GPU Available:  []\n",
            "All Physical Devices [PhysicalDevice(name='/physical_device:CPU:0', device_type='CPU')]\n"
          ]
        }
      ]
    },
    {
      "cell_type": "markdown",
      "source": [
        "**Mount google drive to the notebook**"
      ],
      "metadata": {
        "id": "blXEAJ9UK5C3"
      }
    },
    {
      "cell_type": "code",
      "source": [
        "from google.colab import drive\n",
        "\n",
        "drive.mount('/content/gdrive/', force_remount=True)"
      ],
      "metadata": {
        "colab": {
          "base_uri": "https://localhost:8080/"
        },
        "id": "o80BjoFvOw33",
        "outputId": "b52b6260-1e1d-478b-bb88-4670233181dc"
      },
      "execution_count": null,
      "outputs": [
        {
          "output_type": "stream",
          "name": "stdout",
          "text": [
            "Mounted at /content/gdrive/\n"
          ]
        }
      ]
    },
    {
      "cell_type": "markdown",
      "source": [
        "# **LOADING THE DATSETS**"
      ],
      "metadata": {
        "id": "OCs41LsxQsa7"
      }
    },
    {
      "cell_type": "markdown",
      "source": [
        "Load the 4 datasets from the given link above and normalize them and check the dataframe using .head() function and check the lengths of dataframe"
      ],
      "metadata": {
        "id": "gvfp1F6HLJEK"
      }
    },
    {
      "cell_type": "code",
      "source": [
        "with open(\"/content/gdrive/MyDrive/AI3 Project/A13/WIESP2022-NER-DEV.jsonl\", 'r') as f:\n",
        "  wiesp_dev_json = [json.loads(l) for l in list(f)]"
      ],
      "metadata": {
        "id": "7UfRq-WBOFIb"
      },
      "execution_count": null,
      "outputs": []
    },
    {
      "cell_type": "code",
      "source": [
        "df_DEV = json_normalize(wiesp_dev_json)\n",
        "df_DEV.head()"
      ],
      "metadata": {
        "colab": {
          "base_uri": "https://localhost:8080/",
          "height": 684
        },
        "id": "VbW-camiPwuU",
        "outputId": "5c36bd16-ad5f-496f-f51d-18016947a607"
      },
      "execution_count": null,
      "outputs": [
        {
          "output_type": "execute_result",
          "data": {
            "text/plain": [
              "               bibcode  label_studio_id  \\\n",
              "0  2019MNRAS.486.5558S              487   \n",
              "1  2018MNRAS.480.3062L             1086   \n",
              "2  2019MNRAS.482L...9B              559   \n",
              "3  2018A&A...617A..26D             1307   \n",
              "4  2017ApJ...840...33S              465   \n",
              "\n",
              "                                             ner_ids  \\\n",
              "0  [62, 62, 62, 62, 62, 62, 62, 15, 62, 62, 62, 6...   \n",
              "1  [62, 62, 62, 62, 62, 62, 62, 62, 62, 62, 62, 6...   \n",
              "2  [62, 62, 62, 22, 53, 22, 53, 22, 53, 22, 53, 2...   \n",
              "3  [4, 35, 62, 62, 62, 62, 62, 62, 62, 62, 62, 62...   \n",
              "4  [62, 62, 62, 62, 62, 62, 62, 62, 62, 62, 62, 6...   \n",
              "\n",
              "                                            ner_tags          section  \\\n",
              "0  [O, O, O, O, O, O, O, B-Instrument, O, O, O, O...         fulltext   \n",
              "1  [O, O, O, O, O, O, O, O, O, O, O, O, O, O, O, ...  acknowledgments   \n",
              "2  [O, O, O, B-Person, I-Person, B-Person, I-Pers...  acknowledgments   \n",
              "3  [B-Citation, I-Citation, O, O, O, O, O, O, O, ...         fulltext   \n",
              "4  [O, O, O, O, O, O, O, O, O, O, O, O, O, O, O, ...         fulltext   \n",
              "\n",
              "                                              tokens  \\\n",
              "0  [Whilst, a, reasonable, harmonic, fit, to, the...   \n",
              "1  [ACKNOWLEDGEMENTS, The, authors, thank, an, an...   \n",
              "2  [ACKNOWLEDGEMENTS, We, thank, Dougal, Mackey,,...   \n",
              "3  [Lasota, (2007), have, updated, this, work,, f...   \n",
              "4  [an, antenna, with, cos, 2, beam, would, have,...   \n",
              "\n",
              "                                  unique_id  \n",
              "0          fulltext_487_2019MNRAS.486.5558S  \n",
              "1  acknowledgments_1086_2018MNRAS.480.3062L  \n",
              "2   acknowledgments_559_2019MNRAS.482L...9B  \n",
              "3         fulltext_1307_2018A&A...617A..26D  \n",
              "4          fulltext_465_2017ApJ...840...33S  "
            ],
            "text/html": [
              "\n",
              "  <div id=\"df-69d814bd-501a-4935-aa8a-f204653ed4ec\">\n",
              "    <div class=\"colab-df-container\">\n",
              "      <div>\n",
              "<style scoped>\n",
              "    .dataframe tbody tr th:only-of-type {\n",
              "        vertical-align: middle;\n",
              "    }\n",
              "\n",
              "    .dataframe tbody tr th {\n",
              "        vertical-align: top;\n",
              "    }\n",
              "\n",
              "    .dataframe thead th {\n",
              "        text-align: right;\n",
              "    }\n",
              "</style>\n",
              "<table border=\"1\" class=\"dataframe\">\n",
              "  <thead>\n",
              "    <tr style=\"text-align: right;\">\n",
              "      <th></th>\n",
              "      <th>bibcode</th>\n",
              "      <th>label_studio_id</th>\n",
              "      <th>ner_ids</th>\n",
              "      <th>ner_tags</th>\n",
              "      <th>section</th>\n",
              "      <th>tokens</th>\n",
              "      <th>unique_id</th>\n",
              "    </tr>\n",
              "  </thead>\n",
              "  <tbody>\n",
              "    <tr>\n",
              "      <th>0</th>\n",
              "      <td>2019MNRAS.486.5558S</td>\n",
              "      <td>487</td>\n",
              "      <td>[62, 62, 62, 62, 62, 62, 62, 15, 62, 62, 62, 6...</td>\n",
              "      <td>[O, O, O, O, O, O, O, B-Instrument, O, O, O, O...</td>\n",
              "      <td>fulltext</td>\n",
              "      <td>[Whilst, a, reasonable, harmonic, fit, to, the...</td>\n",
              "      <td>fulltext_487_2019MNRAS.486.5558S</td>\n",
              "    </tr>\n",
              "    <tr>\n",
              "      <th>1</th>\n",
              "      <td>2018MNRAS.480.3062L</td>\n",
              "      <td>1086</td>\n",
              "      <td>[62, 62, 62, 62, 62, 62, 62, 62, 62, 62, 62, 6...</td>\n",
              "      <td>[O, O, O, O, O, O, O, O, O, O, O, O, O, O, O, ...</td>\n",
              "      <td>acknowledgments</td>\n",
              "      <td>[ACKNOWLEDGEMENTS, The, authors, thank, an, an...</td>\n",
              "      <td>acknowledgments_1086_2018MNRAS.480.3062L</td>\n",
              "    </tr>\n",
              "    <tr>\n",
              "      <th>2</th>\n",
              "      <td>2019MNRAS.482L...9B</td>\n",
              "      <td>559</td>\n",
              "      <td>[62, 62, 62, 22, 53, 22, 53, 22, 53, 22, 53, 2...</td>\n",
              "      <td>[O, O, O, B-Person, I-Person, B-Person, I-Pers...</td>\n",
              "      <td>acknowledgments</td>\n",
              "      <td>[ACKNOWLEDGEMENTS, We, thank, Dougal, Mackey,,...</td>\n",
              "      <td>acknowledgments_559_2019MNRAS.482L...9B</td>\n",
              "    </tr>\n",
              "    <tr>\n",
              "      <th>3</th>\n",
              "      <td>2018A&amp;A...617A..26D</td>\n",
              "      <td>1307</td>\n",
              "      <td>[4, 35, 62, 62, 62, 62, 62, 62, 62, 62, 62, 62...</td>\n",
              "      <td>[B-Citation, I-Citation, O, O, O, O, O, O, O, ...</td>\n",
              "      <td>fulltext</td>\n",
              "      <td>[Lasota, (2007), have, updated, this, work,, f...</td>\n",
              "      <td>fulltext_1307_2018A&amp;A...617A..26D</td>\n",
              "    </tr>\n",
              "    <tr>\n",
              "      <th>4</th>\n",
              "      <td>2017ApJ...840...33S</td>\n",
              "      <td>465</td>\n",
              "      <td>[62, 62, 62, 62, 62, 62, 62, 62, 62, 62, 62, 6...</td>\n",
              "      <td>[O, O, O, O, O, O, O, O, O, O, O, O, O, O, O, ...</td>\n",
              "      <td>fulltext</td>\n",
              "      <td>[an, antenna, with, cos, 2, beam, would, have,...</td>\n",
              "      <td>fulltext_465_2017ApJ...840...33S</td>\n",
              "    </tr>\n",
              "  </tbody>\n",
              "</table>\n",
              "</div>\n",
              "      <button class=\"colab-df-convert\" onclick=\"convertToInteractive('df-69d814bd-501a-4935-aa8a-f204653ed4ec')\"\n",
              "              title=\"Convert this dataframe to an interactive table.\"\n",
              "              style=\"display:none;\">\n",
              "        \n",
              "  <svg xmlns=\"http://www.w3.org/2000/svg\" height=\"24px\"viewBox=\"0 0 24 24\"\n",
              "       width=\"24px\">\n",
              "    <path d=\"M0 0h24v24H0V0z\" fill=\"none\"/>\n",
              "    <path d=\"M18.56 5.44l.94 2.06.94-2.06 2.06-.94-2.06-.94-.94-2.06-.94 2.06-2.06.94zm-11 1L8.5 8.5l.94-2.06 2.06-.94-2.06-.94L8.5 2.5l-.94 2.06-2.06.94zm10 10l.94 2.06.94-2.06 2.06-.94-2.06-.94-.94-2.06-.94 2.06-2.06.94z\"/><path d=\"M17.41 7.96l-1.37-1.37c-.4-.4-.92-.59-1.43-.59-.52 0-1.04.2-1.43.59L10.3 9.45l-7.72 7.72c-.78.78-.78 2.05 0 2.83L4 21.41c.39.39.9.59 1.41.59.51 0 1.02-.2 1.41-.59l7.78-7.78 2.81-2.81c.8-.78.8-2.07 0-2.86zM5.41 20L4 18.59l7.72-7.72 1.47 1.35L5.41 20z\"/>\n",
              "  </svg>\n",
              "      </button>\n",
              "      \n",
              "  <style>\n",
              "    .colab-df-container {\n",
              "      display:flex;\n",
              "      flex-wrap:wrap;\n",
              "      gap: 12px;\n",
              "    }\n",
              "\n",
              "    .colab-df-convert {\n",
              "      background-color: #E8F0FE;\n",
              "      border: none;\n",
              "      border-radius: 50%;\n",
              "      cursor: pointer;\n",
              "      display: none;\n",
              "      fill: #1967D2;\n",
              "      height: 32px;\n",
              "      padding: 0 0 0 0;\n",
              "      width: 32px;\n",
              "    }\n",
              "\n",
              "    .colab-df-convert:hover {\n",
              "      background-color: #E2EBFA;\n",
              "      box-shadow: 0px 1px 2px rgba(60, 64, 67, 0.3), 0px 1px 3px 1px rgba(60, 64, 67, 0.15);\n",
              "      fill: #174EA6;\n",
              "    }\n",
              "\n",
              "    [theme=dark] .colab-df-convert {\n",
              "      background-color: #3B4455;\n",
              "      fill: #D2E3FC;\n",
              "    }\n",
              "\n",
              "    [theme=dark] .colab-df-convert:hover {\n",
              "      background-color: #434B5C;\n",
              "      box-shadow: 0px 1px 3px 1px rgba(0, 0, 0, 0.15);\n",
              "      filter: drop-shadow(0px 1px 2px rgba(0, 0, 0, 0.3));\n",
              "      fill: #FFFFFF;\n",
              "    }\n",
              "  </style>\n",
              "\n",
              "      <script>\n",
              "        const buttonEl =\n",
              "          document.querySelector('#df-69d814bd-501a-4935-aa8a-f204653ed4ec button.colab-df-convert');\n",
              "        buttonEl.style.display =\n",
              "          google.colab.kernel.accessAllowed ? 'block' : 'none';\n",
              "\n",
              "        async function convertToInteractive(key) {\n",
              "          const element = document.querySelector('#df-69d814bd-501a-4935-aa8a-f204653ed4ec');\n",
              "          const dataTable =\n",
              "            await google.colab.kernel.invokeFunction('convertToInteractive',\n",
              "                                                     [key], {});\n",
              "          if (!dataTable) return;\n",
              "\n",
              "          const docLinkHtml = 'Like what you see? Visit the ' +\n",
              "            '<a target=\"_blank\" href=https://colab.research.google.com/notebooks/data_table.ipynb>data table notebook</a>'\n",
              "            + ' to learn more about interactive tables.';\n",
              "          element.innerHTML = '';\n",
              "          dataTable['output_type'] = 'display_data';\n",
              "          await google.colab.output.renderOutput(dataTable, element);\n",
              "          const docLink = document.createElement('div');\n",
              "          docLink.innerHTML = docLinkHtml;\n",
              "          element.appendChild(docLink);\n",
              "        }\n",
              "      </script>\n",
              "    </div>\n",
              "  </div>\n",
              "  "
            ]
          },
          "metadata": {},
          "execution_count": 140
        }
      ]
    },
    {
      "cell_type": "code",
      "source": [
        "len(df_DEV)"
      ],
      "metadata": {
        "colab": {
          "base_uri": "https://localhost:8080/"
        },
        "id": "JnyLF7e3Bhsv",
        "outputId": "ea2b4ba5-a7fc-436e-86cc-e35e8c28dcc3"
      },
      "execution_count": null,
      "outputs": [
        {
          "output_type": "execute_result",
          "data": {
            "text/plain": [
              "20"
            ]
          },
          "metadata": {},
          "execution_count": 6
        }
      ]
    },
    {
      "cell_type": "code",
      "source": [
        "with open(\"/content/gdrive/MyDrive/AI3 Project/A13/WIESP2022-NER-TRAINING.jsonl\", 'r') as f:\n",
        "  wiesp_TRAIN_json = [json.loads(l) for l in list(f)]"
      ],
      "metadata": {
        "id": "--Wm90GUOd0E"
      },
      "execution_count": null,
      "outputs": []
    },
    {
      "cell_type": "code",
      "source": [
        "df_TRAINING = json_normalize(wiesp_TRAIN_json)\n",
        "df_TRAINING.head()"
      ],
      "metadata": {
        "colab": {
          "base_uri": "https://localhost:8080/",
          "height": 704
        },
        "id": "7UnSZiXNPu-G",
        "outputId": "1734b7cc-688a-444d-bd7c-5991089bfafb"
      },
      "execution_count": null,
      "outputs": [
        {
          "output_type": "execute_result",
          "data": {
            "text/plain": [
              "               bibcode  label_studio_id  \\\n",
              "0  2019MNRAS.486.5558S              487   \n",
              "1  2018MNRAS.478.5533F             1129   \n",
              "2  2018MNRAS.480.3062L             1086   \n",
              "3  2016MNRAS.457.1786M             1135   \n",
              "4  2019MNRAS.482L...9B              559   \n",
              "\n",
              "                                             ner_ids  \\\n",
              "0  [62, 62, 62, 62, 62, 62, 62, 15, 62, 62, 62, 6...   \n",
              "1  [62, 62, 62, 62, 62, 62, 62, 62, 62, 62, 62, 6...   \n",
              "2  [62, 62, 62, 62, 62, 62, 62, 62, 62, 62, 62, 6...   \n",
              "3  [22, 62, 62, 62, 62, 21, 13, 44, 44, 21, 62, 1...   \n",
              "4  [62, 62, 62, 22, 53, 22, 53, 22, 53, 22, 53, 2...   \n",
              "\n",
              "                                            ner_tags          section  \\\n",
              "0  [O, O, O, O, O, O, O, B-Instrument, O, O, O, O...         fulltext   \n",
              "1  [O, O, O, O, O, O, O, O, O, O, O, O, O, O, O, ...         fulltext   \n",
              "2  [O, O, O, O, O, O, O, O, O, O, O, O, O, O, O, ...  acknowledgments   \n",
              "3  [B-Person, O, O, O, O, B-Organization, B-Grant...  acknowledgments   \n",
              "4  [O, O, O, B-Person, I-Person, B-Person, I-Pers...  acknowledgments   \n",
              "\n",
              "                                              tokens  \\\n",
              "0  [Whilst, a, reasonable, harmonic, fit, to, the...   \n",
              "1  [comparison, once, the, angular, positions, of...   \n",
              "2  [ACKNOWLEDGEMENTS, The, authors, thank, an, an...   \n",
              "3  [BDM, gratefully, acknowledges, support, from,...   \n",
              "4  [ACKNOWLEDGEMENTS, We, thank, Dougal, Mackey,,...   \n",
              "\n",
              "                                  unique_id  \n",
              "0          fulltext_487_2019MNRAS.486.5558S  \n",
              "1         fulltext_1129_2018MNRAS.478.5533F  \n",
              "2  acknowledgments_1086_2018MNRAS.480.3062L  \n",
              "3  acknowledgments_1135_2016MNRAS.457.1786M  \n",
              "4   acknowledgments_559_2019MNRAS.482L...9B  "
            ],
            "text/html": [
              "\n",
              "  <div id=\"df-98a54bc4-342f-4450-8ff8-35b5bf6e8726\">\n",
              "    <div class=\"colab-df-container\">\n",
              "      <div>\n",
              "<style scoped>\n",
              "    .dataframe tbody tr th:only-of-type {\n",
              "        vertical-align: middle;\n",
              "    }\n",
              "\n",
              "    .dataframe tbody tr th {\n",
              "        vertical-align: top;\n",
              "    }\n",
              "\n",
              "    .dataframe thead th {\n",
              "        text-align: right;\n",
              "    }\n",
              "</style>\n",
              "<table border=\"1\" class=\"dataframe\">\n",
              "  <thead>\n",
              "    <tr style=\"text-align: right;\">\n",
              "      <th></th>\n",
              "      <th>bibcode</th>\n",
              "      <th>label_studio_id</th>\n",
              "      <th>ner_ids</th>\n",
              "      <th>ner_tags</th>\n",
              "      <th>section</th>\n",
              "      <th>tokens</th>\n",
              "      <th>unique_id</th>\n",
              "    </tr>\n",
              "  </thead>\n",
              "  <tbody>\n",
              "    <tr>\n",
              "      <th>0</th>\n",
              "      <td>2019MNRAS.486.5558S</td>\n",
              "      <td>487</td>\n",
              "      <td>[62, 62, 62, 62, 62, 62, 62, 15, 62, 62, 62, 6...</td>\n",
              "      <td>[O, O, O, O, O, O, O, B-Instrument, O, O, O, O...</td>\n",
              "      <td>fulltext</td>\n",
              "      <td>[Whilst, a, reasonable, harmonic, fit, to, the...</td>\n",
              "      <td>fulltext_487_2019MNRAS.486.5558S</td>\n",
              "    </tr>\n",
              "    <tr>\n",
              "      <th>1</th>\n",
              "      <td>2018MNRAS.478.5533F</td>\n",
              "      <td>1129</td>\n",
              "      <td>[62, 62, 62, 62, 62, 62, 62, 62, 62, 62, 62, 6...</td>\n",
              "      <td>[O, O, O, O, O, O, O, O, O, O, O, O, O, O, O, ...</td>\n",
              "      <td>fulltext</td>\n",
              "      <td>[comparison, once, the, angular, positions, of...</td>\n",
              "      <td>fulltext_1129_2018MNRAS.478.5533F</td>\n",
              "    </tr>\n",
              "    <tr>\n",
              "      <th>2</th>\n",
              "      <td>2018MNRAS.480.3062L</td>\n",
              "      <td>1086</td>\n",
              "      <td>[62, 62, 62, 62, 62, 62, 62, 62, 62, 62, 62, 6...</td>\n",
              "      <td>[O, O, O, O, O, O, O, O, O, O, O, O, O, O, O, ...</td>\n",
              "      <td>acknowledgments</td>\n",
              "      <td>[ACKNOWLEDGEMENTS, The, authors, thank, an, an...</td>\n",
              "      <td>acknowledgments_1086_2018MNRAS.480.3062L</td>\n",
              "    </tr>\n",
              "    <tr>\n",
              "      <th>3</th>\n",
              "      <td>2016MNRAS.457.1786M</td>\n",
              "      <td>1135</td>\n",
              "      <td>[22, 62, 62, 62, 62, 21, 13, 44, 44, 21, 62, 1...</td>\n",
              "      <td>[B-Person, O, O, O, O, B-Organization, B-Grant...</td>\n",
              "      <td>acknowledgments</td>\n",
              "      <td>[BDM, gratefully, acknowledges, support, from,...</td>\n",
              "      <td>acknowledgments_1135_2016MNRAS.457.1786M</td>\n",
              "    </tr>\n",
              "    <tr>\n",
              "      <th>4</th>\n",
              "      <td>2019MNRAS.482L...9B</td>\n",
              "      <td>559</td>\n",
              "      <td>[62, 62, 62, 22, 53, 22, 53, 22, 53, 22, 53, 2...</td>\n",
              "      <td>[O, O, O, B-Person, I-Person, B-Person, I-Pers...</td>\n",
              "      <td>acknowledgments</td>\n",
              "      <td>[ACKNOWLEDGEMENTS, We, thank, Dougal, Mackey,,...</td>\n",
              "      <td>acknowledgments_559_2019MNRAS.482L...9B</td>\n",
              "    </tr>\n",
              "  </tbody>\n",
              "</table>\n",
              "</div>\n",
              "      <button class=\"colab-df-convert\" onclick=\"convertToInteractive('df-98a54bc4-342f-4450-8ff8-35b5bf6e8726')\"\n",
              "              title=\"Convert this dataframe to an interactive table.\"\n",
              "              style=\"display:none;\">\n",
              "        \n",
              "  <svg xmlns=\"http://www.w3.org/2000/svg\" height=\"24px\"viewBox=\"0 0 24 24\"\n",
              "       width=\"24px\">\n",
              "    <path d=\"M0 0h24v24H0V0z\" fill=\"none\"/>\n",
              "    <path d=\"M18.56 5.44l.94 2.06.94-2.06 2.06-.94-2.06-.94-.94-2.06-.94 2.06-2.06.94zm-11 1L8.5 8.5l.94-2.06 2.06-.94-2.06-.94L8.5 2.5l-.94 2.06-2.06.94zm10 10l.94 2.06.94-2.06 2.06-.94-2.06-.94-.94-2.06-.94 2.06-2.06.94z\"/><path d=\"M17.41 7.96l-1.37-1.37c-.4-.4-.92-.59-1.43-.59-.52 0-1.04.2-1.43.59L10.3 9.45l-7.72 7.72c-.78.78-.78 2.05 0 2.83L4 21.41c.39.39.9.59 1.41.59.51 0 1.02-.2 1.41-.59l7.78-7.78 2.81-2.81c.8-.78.8-2.07 0-2.86zM5.41 20L4 18.59l7.72-7.72 1.47 1.35L5.41 20z\"/>\n",
              "  </svg>\n",
              "      </button>\n",
              "      \n",
              "  <style>\n",
              "    .colab-df-container {\n",
              "      display:flex;\n",
              "      flex-wrap:wrap;\n",
              "      gap: 12px;\n",
              "    }\n",
              "\n",
              "    .colab-df-convert {\n",
              "      background-color: #E8F0FE;\n",
              "      border: none;\n",
              "      border-radius: 50%;\n",
              "      cursor: pointer;\n",
              "      display: none;\n",
              "      fill: #1967D2;\n",
              "      height: 32px;\n",
              "      padding: 0 0 0 0;\n",
              "      width: 32px;\n",
              "    }\n",
              "\n",
              "    .colab-df-convert:hover {\n",
              "      background-color: #E2EBFA;\n",
              "      box-shadow: 0px 1px 2px rgba(60, 64, 67, 0.3), 0px 1px 3px 1px rgba(60, 64, 67, 0.15);\n",
              "      fill: #174EA6;\n",
              "    }\n",
              "\n",
              "    [theme=dark] .colab-df-convert {\n",
              "      background-color: #3B4455;\n",
              "      fill: #D2E3FC;\n",
              "    }\n",
              "\n",
              "    [theme=dark] .colab-df-convert:hover {\n",
              "      background-color: #434B5C;\n",
              "      box-shadow: 0px 1px 3px 1px rgba(0, 0, 0, 0.15);\n",
              "      filter: drop-shadow(0px 1px 2px rgba(0, 0, 0, 0.3));\n",
              "      fill: #FFFFFF;\n",
              "    }\n",
              "  </style>\n",
              "\n",
              "      <script>\n",
              "        const buttonEl =\n",
              "          document.querySelector('#df-98a54bc4-342f-4450-8ff8-35b5bf6e8726 button.colab-df-convert');\n",
              "        buttonEl.style.display =\n",
              "          google.colab.kernel.accessAllowed ? 'block' : 'none';\n",
              "\n",
              "        async function convertToInteractive(key) {\n",
              "          const element = document.querySelector('#df-98a54bc4-342f-4450-8ff8-35b5bf6e8726');\n",
              "          const dataTable =\n",
              "            await google.colab.kernel.invokeFunction('convertToInteractive',\n",
              "                                                     [key], {});\n",
              "          if (!dataTable) return;\n",
              "\n",
              "          const docLinkHtml = 'Like what you see? Visit the ' +\n",
              "            '<a target=\"_blank\" href=https://colab.research.google.com/notebooks/data_table.ipynb>data table notebook</a>'\n",
              "            + ' to learn more about interactive tables.';\n",
              "          element.innerHTML = '';\n",
              "          dataTable['output_type'] = 'display_data';\n",
              "          await google.colab.output.renderOutput(dataTable, element);\n",
              "          const docLink = document.createElement('div');\n",
              "          docLink.innerHTML = docLinkHtml;\n",
              "          element.appendChild(docLink);\n",
              "        }\n",
              "      </script>\n",
              "    </div>\n",
              "  </div>\n",
              "  "
            ]
          },
          "metadata": {},
          "execution_count": 8
        }
      ]
    },
    {
      "cell_type": "code",
      "source": [
        "len(df_TRAINING)"
      ],
      "metadata": {
        "colab": {
          "base_uri": "https://localhost:8080/"
        },
        "id": "INIb-c8qBc8B",
        "outputId": "c230bcae-8454-4102-daea-ba5f0eb31946"
      },
      "execution_count": null,
      "outputs": [
        {
          "output_type": "execute_result",
          "data": {
            "text/plain": [
              "1753"
            ]
          },
          "metadata": {},
          "execution_count": 9
        }
      ]
    },
    {
      "cell_type": "code",
      "source": [
        "with open(\"/content/gdrive/MyDrive/AI3 Project/A13/WIESP2022-NER-VALIDATION-NO-LABELS.jsonl\", 'r') as f:\n",
        "  wiesp_VALIDATION_json = [json.loads(l) for l in list(f)]"
      ],
      "metadata": {
        "id": "HpHzSekuOdwt"
      },
      "execution_count": null,
      "outputs": []
    },
    {
      "cell_type": "code",
      "source": [
        "df_VALIDATION = json_normalize(wiesp_VALIDATION_json)\n",
        "df_VALIDATION.head()"
      ],
      "metadata": {
        "colab": {
          "base_uri": "https://localhost:8080/",
          "height": 206
        },
        "id": "H5jDZLLbQc0B",
        "outputId": "5235041a-ae16-460a-b92c-4300543386aa"
      },
      "execution_count": null,
      "outputs": [
        {
          "output_type": "execute_result",
          "data": {
            "text/plain": [
              "               bibcode  label_studio_id          section  \\\n",
              "0  2016A&A...586A.140P             1778         fulltext   \n",
              "1  2017ApJ...842..123F             1466         fulltext   \n",
              "2  2019ApJ...882L...1F             1015         fulltext   \n",
              "3  2018MNRAS.475.3029T               72         fulltext   \n",
              "4  2019ApJ...876..136J               57  acknowledgments   \n",
              "\n",
              "                                              tokens  \\\n",
              "0  [that, gas, outside, halos,, not, necessarily,...   \n",
              "1  [that, all, star, formation, within, Upper, Sc...   \n",
              "2  [the, PCs, would, contain, the, changes., Mate...   \n",
              "3  [arcmin, away,, in, a, low, density, environme...   \n",
              "4  [We, are, grateful, to, J., Chen,, J., Delabro...   \n",
              "\n",
              "                                unique_id  \n",
              "0       fulltext_1778_2016A&A...586A.140P  \n",
              "1       fulltext_1466_2017ApJ...842..123F  \n",
              "2       fulltext_1015_2019ApJ...882L...1F  \n",
              "3         fulltext_72_2018MNRAS.475.3029T  \n",
              "4  acknowledgments_57_2019ApJ...876..136J  "
            ],
            "text/html": [
              "\n",
              "  <div id=\"df-a5876a0a-0957-465d-959c-61d80362ae92\">\n",
              "    <div class=\"colab-df-container\">\n",
              "      <div>\n",
              "<style scoped>\n",
              "    .dataframe tbody tr th:only-of-type {\n",
              "        vertical-align: middle;\n",
              "    }\n",
              "\n",
              "    .dataframe tbody tr th {\n",
              "        vertical-align: top;\n",
              "    }\n",
              "\n",
              "    .dataframe thead th {\n",
              "        text-align: right;\n",
              "    }\n",
              "</style>\n",
              "<table border=\"1\" class=\"dataframe\">\n",
              "  <thead>\n",
              "    <tr style=\"text-align: right;\">\n",
              "      <th></th>\n",
              "      <th>bibcode</th>\n",
              "      <th>label_studio_id</th>\n",
              "      <th>section</th>\n",
              "      <th>tokens</th>\n",
              "      <th>unique_id</th>\n",
              "    </tr>\n",
              "  </thead>\n",
              "  <tbody>\n",
              "    <tr>\n",
              "      <th>0</th>\n",
              "      <td>2016A&amp;A...586A.140P</td>\n",
              "      <td>1778</td>\n",
              "      <td>fulltext</td>\n",
              "      <td>[that, gas, outside, halos,, not, necessarily,...</td>\n",
              "      <td>fulltext_1778_2016A&amp;A...586A.140P</td>\n",
              "    </tr>\n",
              "    <tr>\n",
              "      <th>1</th>\n",
              "      <td>2017ApJ...842..123F</td>\n",
              "      <td>1466</td>\n",
              "      <td>fulltext</td>\n",
              "      <td>[that, all, star, formation, within, Upper, Sc...</td>\n",
              "      <td>fulltext_1466_2017ApJ...842..123F</td>\n",
              "    </tr>\n",
              "    <tr>\n",
              "      <th>2</th>\n",
              "      <td>2019ApJ...882L...1F</td>\n",
              "      <td>1015</td>\n",
              "      <td>fulltext</td>\n",
              "      <td>[the, PCs, would, contain, the, changes., Mate...</td>\n",
              "      <td>fulltext_1015_2019ApJ...882L...1F</td>\n",
              "    </tr>\n",
              "    <tr>\n",
              "      <th>3</th>\n",
              "      <td>2018MNRAS.475.3029T</td>\n",
              "      <td>72</td>\n",
              "      <td>fulltext</td>\n",
              "      <td>[arcmin, away,, in, a, low, density, environme...</td>\n",
              "      <td>fulltext_72_2018MNRAS.475.3029T</td>\n",
              "    </tr>\n",
              "    <tr>\n",
              "      <th>4</th>\n",
              "      <td>2019ApJ...876..136J</td>\n",
              "      <td>57</td>\n",
              "      <td>acknowledgments</td>\n",
              "      <td>[We, are, grateful, to, J., Chen,, J., Delabro...</td>\n",
              "      <td>acknowledgments_57_2019ApJ...876..136J</td>\n",
              "    </tr>\n",
              "  </tbody>\n",
              "</table>\n",
              "</div>\n",
              "      <button class=\"colab-df-convert\" onclick=\"convertToInteractive('df-a5876a0a-0957-465d-959c-61d80362ae92')\"\n",
              "              title=\"Convert this dataframe to an interactive table.\"\n",
              "              style=\"display:none;\">\n",
              "        \n",
              "  <svg xmlns=\"http://www.w3.org/2000/svg\" height=\"24px\"viewBox=\"0 0 24 24\"\n",
              "       width=\"24px\">\n",
              "    <path d=\"M0 0h24v24H0V0z\" fill=\"none\"/>\n",
              "    <path d=\"M18.56 5.44l.94 2.06.94-2.06 2.06-.94-2.06-.94-.94-2.06-.94 2.06-2.06.94zm-11 1L8.5 8.5l.94-2.06 2.06-.94-2.06-.94L8.5 2.5l-.94 2.06-2.06.94zm10 10l.94 2.06.94-2.06 2.06-.94-2.06-.94-.94-2.06-.94 2.06-2.06.94z\"/><path d=\"M17.41 7.96l-1.37-1.37c-.4-.4-.92-.59-1.43-.59-.52 0-1.04.2-1.43.59L10.3 9.45l-7.72 7.72c-.78.78-.78 2.05 0 2.83L4 21.41c.39.39.9.59 1.41.59.51 0 1.02-.2 1.41-.59l7.78-7.78 2.81-2.81c.8-.78.8-2.07 0-2.86zM5.41 20L4 18.59l7.72-7.72 1.47 1.35L5.41 20z\"/>\n",
              "  </svg>\n",
              "      </button>\n",
              "      \n",
              "  <style>\n",
              "    .colab-df-container {\n",
              "      display:flex;\n",
              "      flex-wrap:wrap;\n",
              "      gap: 12px;\n",
              "    }\n",
              "\n",
              "    .colab-df-convert {\n",
              "      background-color: #E8F0FE;\n",
              "      border: none;\n",
              "      border-radius: 50%;\n",
              "      cursor: pointer;\n",
              "      display: none;\n",
              "      fill: #1967D2;\n",
              "      height: 32px;\n",
              "      padding: 0 0 0 0;\n",
              "      width: 32px;\n",
              "    }\n",
              "\n",
              "    .colab-df-convert:hover {\n",
              "      background-color: #E2EBFA;\n",
              "      box-shadow: 0px 1px 2px rgba(60, 64, 67, 0.3), 0px 1px 3px 1px rgba(60, 64, 67, 0.15);\n",
              "      fill: #174EA6;\n",
              "    }\n",
              "\n",
              "    [theme=dark] .colab-df-convert {\n",
              "      background-color: #3B4455;\n",
              "      fill: #D2E3FC;\n",
              "    }\n",
              "\n",
              "    [theme=dark] .colab-df-convert:hover {\n",
              "      background-color: #434B5C;\n",
              "      box-shadow: 0px 1px 3px 1px rgba(0, 0, 0, 0.15);\n",
              "      filter: drop-shadow(0px 1px 2px rgba(0, 0, 0, 0.3));\n",
              "      fill: #FFFFFF;\n",
              "    }\n",
              "  </style>\n",
              "\n",
              "      <script>\n",
              "        const buttonEl =\n",
              "          document.querySelector('#df-a5876a0a-0957-465d-959c-61d80362ae92 button.colab-df-convert');\n",
              "        buttonEl.style.display =\n",
              "          google.colab.kernel.accessAllowed ? 'block' : 'none';\n",
              "\n",
              "        async function convertToInteractive(key) {\n",
              "          const element = document.querySelector('#df-a5876a0a-0957-465d-959c-61d80362ae92');\n",
              "          const dataTable =\n",
              "            await google.colab.kernel.invokeFunction('convertToInteractive',\n",
              "                                                     [key], {});\n",
              "          if (!dataTable) return;\n",
              "\n",
              "          const docLinkHtml = 'Like what you see? Visit the ' +\n",
              "            '<a target=\"_blank\" href=https://colab.research.google.com/notebooks/data_table.ipynb>data table notebook</a>'\n",
              "            + ' to learn more about interactive tables.';\n",
              "          element.innerHTML = '';\n",
              "          dataTable['output_type'] = 'display_data';\n",
              "          await google.colab.output.renderOutput(dataTable, element);\n",
              "          const docLink = document.createElement('div');\n",
              "          docLink.innerHTML = docLinkHtml;\n",
              "          element.appendChild(docLink);\n",
              "        }\n",
              "      </script>\n",
              "    </div>\n",
              "  </div>\n",
              "  "
            ]
          },
          "metadata": {},
          "execution_count": 11
        }
      ]
    },
    {
      "cell_type": "code",
      "source": [
        "len(df_VALIDATION)"
      ],
      "metadata": {
        "colab": {
          "base_uri": "https://localhost:8080/"
        },
        "id": "eAoXelqBBYoj",
        "outputId": "e48509eb-c7ce-489a-ce6b-e614161ba453"
      },
      "execution_count": null,
      "outputs": [
        {
          "output_type": "execute_result",
          "data": {
            "text/plain": [
              "1366"
            ]
          },
          "metadata": {},
          "execution_count": 12
        }
      ]
    },
    {
      "cell_type": "code",
      "source": [
        "with open('/content/gdrive/MyDrive/AI3 Project/A13/ner_tags.json') as json_file:\n",
        "    DICT_TAGS = json.load(json_file)"
      ],
      "metadata": {
        "id": "RAaB07x2OdtG"
      },
      "execution_count": null,
      "outputs": []
    },
    {
      "cell_type": "code",
      "source": [
        "len(DICT_TAGS)"
      ],
      "metadata": {
        "colab": {
          "base_uri": "https://localhost:8080/"
        },
        "id": "V-trN-JdA8Pa",
        "outputId": "2522c330-ca85-447d-ae11-20a7f205e5fe"
      },
      "execution_count": null,
      "outputs": [
        {
          "output_type": "execute_result",
          "data": {
            "text/plain": [
              "63"
            ]
          },
          "metadata": {},
          "execution_count": 15
        }
      ]
    },
    {
      "cell_type": "markdown",
      "source": [
        "Creating a list for the ner_tags and using counter function to check the unique words."
      ],
      "metadata": {
        "id": "BszhQLQFLbT4"
      }
    },
    {
      "cell_type": "code",
      "source": [
        "#Creating a list for Tags to append all ner_tages into a list\n",
        "Tags = []\n",
        "for tag in df_TRAINING.ner_tags:\n",
        "  Tags.append(tag)"
      ],
      "metadata": {
        "id": "Laj__oNvEyWB"
      },
      "execution_count": null,
      "outputs": []
    },
    {
      "cell_type": "code",
      "source": [
        "#Creating a count list \n",
        "count = []\n",
        "for i in Tags:\n",
        "  for j in i:\n",
        "    count.append(j)\n"
      ],
      "metadata": {
        "id": "Rp4bklKCRTf7"
      },
      "execution_count": null,
      "outputs": []
    },
    {
      "cell_type": "code",
      "source": [
        "#Using counter function to see unique words\n",
        "count_dict = Counter(count)\n",
        "count_dict"
      ],
      "metadata": {
        "colab": {
          "base_uri": "https://localhost:8080/"
        },
        "id": "Q8yVVpRHRTy3",
        "outputId": "fa49fa96-bac1-4e48-90f0-e9f82df73af0"
      },
      "execution_count": null,
      "outputs": [
        {
          "output_type": "execute_result",
          "data": {
            "text/plain": [
              "Counter({'B-Archive': 192,\n",
              "         'B-CelestialObject': 2940,\n",
              "         'B-CelestialObjectRegion': 265,\n",
              "         'B-CelestialRegion': 158,\n",
              "         'B-Citation': 6360,\n",
              "         'B-Collaboration': 306,\n",
              "         'B-ComputingFacility': 399,\n",
              "         'B-Database': 256,\n",
              "         'B-Dataset': 328,\n",
              "         'B-EntityOfFutureInterest': 61,\n",
              "         'B-Event': 45,\n",
              "         'B-Fellowship': 411,\n",
              "         'B-Formula': 2088,\n",
              "         'B-Grant': 3478,\n",
              "         'B-Identifier': 112,\n",
              "         'B-Instrument': 714,\n",
              "         'B-Location': 1404,\n",
              "         'B-Mission': 110,\n",
              "         'B-Model': 1800,\n",
              "         'B-ObservationalTechniques': 124,\n",
              "         'B-Observatory': 873,\n",
              "         'B-Organization': 7448,\n",
              "         'B-Person': 3916,\n",
              "         'B-Proposal': 100,\n",
              "         'B-Software': 1017,\n",
              "         'B-Survey': 885,\n",
              "         'B-Tag': 66,\n",
              "         'B-Telescope': 1573,\n",
              "         'B-TextGarbage': 52,\n",
              "         'B-URL': 294,\n",
              "         'B-Wavelength': 3384,\n",
              "         'I-Archive': 466,\n",
              "         'I-CelestialObject': 1691,\n",
              "         'I-CelestialObjectRegion': 223,\n",
              "         'I-CelestialRegion': 240,\n",
              "         'I-Citation': 18402,\n",
              "         'I-Collaboration': 598,\n",
              "         'I-ComputingFacility': 809,\n",
              "         'I-Database': 259,\n",
              "         'I-Dataset': 368,\n",
              "         'I-EntityOfFutureInterest': 16,\n",
              "         'I-Event': 176,\n",
              "         'I-Fellowship': 1015,\n",
              "         'I-Formula': 8433,\n",
              "         'I-Grant': 4080,\n",
              "         'I-Identifier': 31,\n",
              "         'I-Instrument': 140,\n",
              "         'I-Location': 467,\n",
              "         'I-Mission': 27,\n",
              "         'I-Model': 1244,\n",
              "         'I-ObservationalTechniques': 74,\n",
              "         'I-Observatory': 1035,\n",
              "         'I-Organization': 14211,\n",
              "         'I-Person': 2206,\n",
              "         'I-Proposal': 100,\n",
              "         'I-Software': 472,\n",
              "         'I-Survey': 573,\n",
              "         'I-Tag': 54,\n",
              "         'I-Telescope': 607,\n",
              "         'I-TextGarbage': 54,\n",
              "         'I-URL': 12,\n",
              "         'I-Wavelength': 1583,\n",
              "         'O': 472307})"
            ]
          },
          "metadata": {},
          "execution_count": 21
        }
      ]
    },
    {
      "cell_type": "markdown",
      "source": [
        "Plotting the tags based on how frequently they are occuring"
      ],
      "metadata": {
        "id": "_KO5_9GNM8wH"
      }
    },
    {
      "cell_type": "code",
      "source": [
        "## Plotting the tags (how frequently they are occuring)\n",
        "del count_dict['O']\n",
        "data = count_dict\n",
        "keys = list(data.keys())\n",
        "values = list(data.values())\n",
        "fig,ax=plt.subplots(figsize=(15,6))\n",
        "plt.bar(range(len(data)), values, tick_label=keys)\n",
        "plt.xticks(rotation=90)\n",
        "plt.show()"
      ],
      "metadata": {
        "colab": {
          "base_uri": "https://localhost:8080/",
          "height": 500
        },
        "id": "udzd-nQwDqHH",
        "outputId": "3c2023b7-e3f8-462c-a3ca-ad8c3d94179b"
      },
      "execution_count": null,
      "outputs": [
        {
          "output_type": "display_data",
          "data": {
            "text/plain": [
              "<Figure size 1080x432 with 1 Axes>"
            ],
            "image/png": "[encoded data removed]"
          },
          "metadata": {
            "needs_background": "light"
          }
        }
      ]
    },
    {
      "cell_type": "markdown",
      "source": [
        "# **CREATING A SIMPLE RNN MODEL**"
      ],
      "metadata": {
        "id": "jI24G2tAD9ad"
      }
    },
    {
      "cell_type": "code",
      "source": [
        "###creating vocabulary to check number of unique words\n",
        "\n",
        "vocab = []\n",
        "for i in df_TRAINING.tokens:\n",
        "  vocab.extend(i)\n",
        "vocab_main = []\n",
        "for word in vocab:\n",
        "  words = word.lower()\n",
        "  vocab_main.append(words)"
      ],
      "metadata": {
        "id": "rdSrnFjCPI7e"
      },
      "execution_count": null,
      "outputs": []
    },
    {
      "cell_type": "code",
      "source": [
        "len(np.unique(vocab_main))"
      ],
      "metadata": {
        "colab": {
          "base_uri": "https://localhost:8080/"
        },
        "id": "njTgdKK0nluW",
        "outputId": "cbf6b957-6510-4830-ae1e-4b66a0bd2fe7"
      },
      "execution_count": null,
      "outputs": [
        {
          "output_type": "execute_result",
          "data": {
            "text/plain": [
              "45753"
            ]
          },
          "metadata": {},
          "execution_count": 24
        }
      ]
    },
    {
      "cell_type": "code",
      "source": [
        "len(vocab)"
      ],
      "metadata": {
        "colab": {
          "base_uri": "https://localhost:8080/"
        },
        "id": "r4JvJ3V6no5J",
        "outputId": "e97b71f7-0632-4ae4-ff30-424fd1dd061f"
      },
      "execution_count": null,
      "outputs": [
        {
          "output_type": "execute_result",
          "data": {
            "text/plain": [
              "573132"
            ]
          },
          "metadata": {},
          "execution_count": 25
        }
      ]
    },
    {
      "cell_type": "code",
      "source": [
        "# Define a tokenizer with vocabulary size of vocab_main\n",
        "Tokenizer = tf.keras.preprocessing.text.Tokenizer(\n",
        "        num_words=len(np.unique(vocab_main)),\n",
        "        filters= None,\n",
        "        lower=True,\n",
        "        char_level=False,\n",
        "        oov_token=None)"
      ],
      "metadata": {
        "id": "3pNE4XsfOqYQ"
      },
      "execution_count": null,
      "outputs": []
    },
    {
      "cell_type": "code",
      "source": [
        "# Fit the tokenizer on the comments column of the train set\n",
        "Tokenizer.fit_on_texts(df_TRAINING.tokens)"
      ],
      "metadata": {
        "id": "a6h4kLKhOq_Z"
      },
      "execution_count": null,
      "outputs": []
    },
    {
      "cell_type": "code",
      "source": [
        "#converting word to index and index to word \n",
        "word2idx = Tokenizer.word_index\n",
        "idx2word = Tokenizer.index_word\n",
        "vocab_size = Tokenizer.num_words"
      ],
      "metadata": {
        "id": "I1e2FsVFPbky"
      },
      "execution_count": null,
      "outputs": []
    },
    {
      "cell_type": "code",
      "source": [
        "#creating a tag_list \n",
        "tag_list = []\n",
        "for j in df_TRAINING.ner_tags:\n",
        "    for i in j:\n",
        "        if i not in tag_list:\n",
        "            tag_list.append(i)"
      ],
      "metadata": {
        "id": "15OYEFnGSVYO"
      },
      "execution_count": null,
      "outputs": []
    },
    {
      "cell_type": "code",
      "source": [
        "len(tag_list)"
      ],
      "metadata": {
        "colab": {
          "base_uri": "https://localhost:8080/"
        },
        "id": "OdaofpqmoUH9",
        "outputId": "57828c0f-5cd8-4002-e422-9225e9337879"
      },
      "execution_count": null,
      "outputs": [
        {
          "output_type": "execute_result",
          "data": {
            "text/plain": [
              "63"
            ]
          },
          "metadata": {},
          "execution_count": 30
        }
      ]
    },
    {
      "cell_type": "code",
      "source": [
        "# Define a tokenizer with vocabulary size of length of tag_list\n",
        "#converting word to index and index to word for tags\n",
        "Tokenizer_2 = tf.keras.preprocessing.text.Tokenizer(num_words=len(tag_list))\n",
        "Tokenizer_2.fit_on_texts(df_TRAINING.ner_tags)\n",
        "word2idx_tag = Tokenizer_2.word_index\n",
        "idx2word_tag = Tokenizer_2.index_word\n",
        "vocab_size_tag = Tokenizer_2.num_words\n",
        "#word2idx_tag"
      ],
      "metadata": {
        "id": "JPfdO2YWPjVB"
      },
      "execution_count": null,
      "outputs": []
    },
    {
      "cell_type": "code",
      "source": [
        "#converting texts to sequences for tokens and ner_tags\n",
        "token_seq = Tokenizer.texts_to_sequences(df_TRAINING.tokens)\n",
        "ner_tag_seq = Tokenizer_2.texts_to_sequences(df_TRAINING.ner_tags)"
      ],
      "metadata": {
        "id": "GBzLtfqxD8pJ"
      },
      "execution_count": null,
      "outputs": []
    },
    {
      "cell_type": "code",
      "source": [
        "#Padding the sequences for tokens and ner_tags\n",
        "token_pad = sequence.pad_sequences(token_seq, maxlen=300, padding='post', truncating='post').reshape((-1,300))\n",
        "ner_tag_pad = sequence.pad_sequences(ner_tag_seq, maxlen=300, padding='post', truncating='post').reshape((-1,300))"
      ],
      "metadata": {
        "id": "d70-rGi1QImy"
      },
      "execution_count": null,
      "outputs": []
    },
    {
      "cell_type": "code",
      "source": [
        "#making the train_test_split for tokens and ner_tags\n",
        "X_train, X_test, y_train, y_test = train_test_split(token_pad, ner_tag_pad, test_size=0.2)"
      ],
      "metadata": {
        "id": "TsXK3gnqQkgH"
      },
      "execution_count": null,
      "outputs": []
    },
    {
      "cell_type": "code",
      "source": [
        "#checking the x_train, y_train, x_test, y_test shapes\n",
        "(X_train.shape, y_train.shape), (X_test.shape, y_test.shape)"
      ],
      "metadata": {
        "colab": {
          "base_uri": "https://localhost:8080/"
        },
        "id": "vQpDphchlMOk",
        "outputId": "9c5c86ea-9b9e-48ee-e4e6-e20372e5cbb7"
      },
      "execution_count": null,
      "outputs": [
        {
          "output_type": "execute_result",
          "data": {
            "text/plain": [
              "(((1402, 300), (1402, 300)), ((351, 300), (351, 300)))"
            ]
          },
          "metadata": {},
          "execution_count": 35
        }
      ]
    },
    {
      "cell_type": "code",
      "source": [
        "(X_test.shape, y_test.shape)"
      ],
      "metadata": {
        "colab": {
          "base_uri": "https://localhost:8080/"
        },
        "id": "ja1FW96Zv-Qi",
        "outputId": "b05eed83-fbdf-4ca5-f2af-f9370ef876bb"
      },
      "execution_count": null,
      "outputs": [
        {
          "output_type": "execute_result",
          "data": {
            "text/plain": [
              "((351, 300), (351, 300))"
            ]
          },
          "metadata": {},
          "execution_count": 36
        }
      ]
    },
    {
      "cell_type": "code",
      "source": [
        "#Defining a simple rnn model\n",
        "\n",
        "inputs=Input((300,))\n",
        "#Adding an embedding layer\n",
        "embedding_layer=layers.Embedding(input_dim=len(np.unique(vocab_main)) +1,output_dim=300,mask_zero=True)(inputs)\n",
        "#Adding a simple RNN layer with dropout layer\n",
        "RNN_Layer1=layers.SimpleRNN(300,return_sequences=True)(embedding_layer)\n",
        "dropout_1=layers.Dropout(0.1)(RNN_Layer1)\n",
        "#Adding a simple RNN layer with dropout layer\n",
        "RNN_Layer2=layers.SimpleRNN(300,return_sequences=True)(dropout_1)\n",
        "dropout_2=layers.Dropout(0.1)(RNN_Layer2)\n",
        "#Adding a Dense layer with dropout layer\n",
        "dense_layer=layers.Dense(300,activation='relu')(dropout_2)\n",
        "dropout_3=layers.Dropout(0.1)(dense_layer)\n",
        "#Adding a output Dense layer \n",
        "outputs=layers.Dense(300,activation='softmax')(dropout_3)\n",
        "SimpleRNN_model=Model(inputs,outputs)\n",
        "SimpleRNN_model.summary()"
      ],
      "metadata": {
        "colab": {
          "base_uri": "https://localhost:8080/"
        },
        "id": "NacxbWmFQ0st",
        "outputId": "c46017ef-78d6-4148-a8bd-94488afc0ac4"
      },
      "execution_count": null,
      "outputs": [
        {
          "output_type": "stream",
          "name": "stdout",
          "text": [
            "Model: \"model_1\"\n",
            "_________________________________________________________________\n",
            " Layer (type)                Output Shape              Param #   \n",
            "=================================================================\n",
            " input_5 (InputLayer)        [(None, 300)]             0         \n",
            "                                                                 \n",
            " embedding_3 (Embedding)     (None, 300, 300)          13726200  \n",
            "                                                                 \n",
            " simple_rnn_2 (SimpleRNN)    (None, 300, 300)          180300    \n",
            "                                                                 \n",
            " dropout_5 (Dropout)         (None, 300, 300)          0         \n",
            "                                                                 \n",
            " simple_rnn_3 (SimpleRNN)    (None, 300, 300)          180300    \n",
            "                                                                 \n",
            " dropout_6 (Dropout)         (None, 300, 300)          0         \n",
            "                                                                 \n",
            " dense_2 (Dense)             (None, 300, 300)          90300     \n",
            "                                                                 \n",
            " dropout_7 (Dropout)         (None, 300, 300)          0         \n",
            "                                                                 \n",
            " dense_3 (Dense)             (None, 300, 300)          90300     \n",
            "                                                                 \n",
            "=================================================================\n",
            "Total params: 14,267,400\n",
            "Trainable params: 14,267,400\n",
            "Non-trainable params: 0\n",
            "_________________________________________________________________\n"
          ]
        }
      ]
    },
    {
      "cell_type": "code",
      "source": [
        "#compile the model with optimizer as adam and loss as sparse categorical crossentropy and metrics as accuracy \n",
        "SimpleRNN_model.compile(optimizer='adam', loss='sparse_categorical_crossentropy', metrics=\"accuracy\")\n",
        "# Train the model with appropriate batch size and number of epochs\n",
        "SimpleRNN_model.fit(X_train,y_train,validation_data=(X_test,y_test),epochs=20,batch_size=64)"
      ],
      "metadata": {
        "colab": {
          "base_uri": "https://localhost:8080/"
        },
        "id": "ank2KlibRVlm",
        "outputId": "cb4411c6-c975-4786-94b2-43ef113d5f83"
      },
      "execution_count": null,
      "outputs": [
        {
          "output_type": "stream",
          "name": "stdout",
          "text": [
            "Epoch 1/20\n",
            "22/22 [==============================] - 58s 2s/step - loss: 1.3548 - accuracy: 0.7412 - val_loss: 0.8608 - val_accuracy: 0.7882\n",
            "Epoch 2/20\n",
            "22/22 [==============================] - 54s 2s/step - loss: 0.8474 - accuracy: 0.7997 - val_loss: 0.8322 - val_accuracy: 0.7882\n",
            "Epoch 3/20\n",
            "22/22 [==============================] - 54s 2s/step - loss: 0.8319 - accuracy: 0.7985 - val_loss: 0.8256 - val_accuracy: 0.7882\n",
            "Epoch 4/20\n",
            "22/22 [==============================] - 54s 2s/step - loss: 0.8065 - accuracy: 0.7996 - val_loss: 0.7752 - val_accuracy: 0.7883\n",
            "Epoch 5/20\n",
            "22/22 [==============================] - 54s 2s/step - loss: 0.6883 - accuracy: 0.8082 - val_loss: 0.5978 - val_accuracy: 0.8115\n",
            "Epoch 6/20\n",
            "22/22 [==============================] - 56s 3s/step - loss: 0.5194 - accuracy: 0.8308 - val_loss: 0.5185 - val_accuracy: 0.8437\n",
            "Epoch 7/20\n",
            "22/22 [==============================] - 59s 3s/step - loss: 0.4435 - accuracy: 0.8544 - val_loss: 0.4864 - val_accuracy: 0.8448\n",
            "Epoch 8/20\n",
            "22/22 [==============================] - 57s 3s/step - loss: 0.3777 - accuracy: 0.8752 - val_loss: 0.4366 - val_accuracy: 0.8591\n",
            "Epoch 9/20\n",
            "22/22 [==============================] - 54s 2s/step - loss: 0.3295 - accuracy: 0.8883 - val_loss: 0.4069 - val_accuracy: 0.8675\n",
            "Epoch 10/20\n",
            "22/22 [==============================] - 55s 3s/step - loss: 0.2813 - accuracy: 0.9010 - val_loss: 0.3844 - val_accuracy: 0.8710\n",
            "Epoch 11/20\n",
            "22/22 [==============================] - 54s 2s/step - loss: 0.2473 - accuracy: 0.9117 - val_loss: 0.3834 - val_accuracy: 0.8743\n",
            "Epoch 12/20\n",
            "22/22 [==============================] - 54s 2s/step - loss: 0.2210 - accuracy: 0.9197 - val_loss: 0.3766 - val_accuracy: 0.8776\n",
            "Epoch 13/20\n",
            "22/22 [==============================] - 54s 2s/step - loss: 0.1966 - accuracy: 0.9284 - val_loss: 0.4234 - val_accuracy: 0.8814\n",
            "Epoch 14/20\n",
            "22/22 [==============================] - 54s 2s/step - loss: 0.1739 - accuracy: 0.9358 - val_loss: 0.3888 - val_accuracy: 0.8874\n",
            "Epoch 15/20\n",
            "22/22 [==============================] - 54s 2s/step - loss: 0.1494 - accuracy: 0.9447 - val_loss: 0.4137 - val_accuracy: 0.8868\n",
            "Epoch 16/20\n",
            "22/22 [==============================] - 54s 2s/step - loss: 0.1312 - accuracy: 0.9511 - val_loss: 0.4074 - val_accuracy: 0.8880\n",
            "Epoch 17/20\n",
            "22/22 [==============================] - 54s 2s/step - loss: 0.1181 - accuracy: 0.9562 - val_loss: 0.4218 - val_accuracy: 0.8865\n",
            "Epoch 18/20\n",
            "22/22 [==============================] - 54s 2s/step - loss: 0.1034 - accuracy: 0.9611 - val_loss: 0.4361 - val_accuracy: 0.8904\n",
            "Epoch 19/20\n",
            "22/22 [==============================] - 54s 2s/step - loss: 0.0873 - accuracy: 0.9674 - val_loss: 0.4595 - val_accuracy: 0.8871\n",
            "Epoch 20/20\n",
            "22/22 [==============================] - 54s 2s/step - loss: 0.0759 - accuracy: 0.9714 - val_loss: 0.4648 - val_accuracy: 0.8943\n"
          ]
        },
        {
          "output_type": "execute_result",
          "data": {
            "text/plain": [
              "<keras.callbacks.History at 0x7f2e1ee6af90>"
            ]
          },
          "metadata": {},
          "execution_count": 54
        }
      ]
    },
    {
      "cell_type": "code",
      "source": [
        "# Evaluate the model on the custom test set and report the accuracy\n",
        "SimpleRNN_accuracy = SimpleRNN_model.evaluate(X_test, y_test)[1]\n",
        "print(f'The accuracy for the SimpleRNN model is {100*SimpleRNN_accuracy:.2f}%')\n"
      ],
      "metadata": {
        "colab": {
          "base_uri": "https://localhost:8080/"
        },
        "id": "4mqyu61ag8dV",
        "outputId": "f208e085-4e3c-470b-ae99-a92b3affec7f"
      },
      "execution_count": null,
      "outputs": [
        {
          "output_type": "stream",
          "name": "stdout",
          "text": [
            "11/11 [==============================] - 3s 317ms/step - loss: 0.4648 - accuracy: 0.8943\n",
            "The accuracy for the SimpleRNN model is 89.43%\n"
          ]
        }
      ]
    },
    {
      "cell_type": "code",
      "source": [
        "# Predict on the test set\n",
        "pred = SimpleRNN_model.predict(X_test)\n",
        "pred = pred.argmax(axis=1)"
      ],
      "metadata": {
        "id": "3TZxNKE5LB0Z"
      },
      "execution_count": null,
      "outputs": []
    },
    {
      "cell_type": "code",
      "source": [
        "#reshaping itbecause it is multidimensional array\n",
        "pred = pred.reshape(-1,1)\n",
        "y_test = y_test.reshape(-1,1)"
      ],
      "metadata": {
        "id": "3wsmmhqPLG_C"
      },
      "execution_count": null,
      "outputs": []
    },
    {
      "cell_type": "code",
      "source": [
        "#checking the shapes of pred and y_test\n",
        "(pred.shape),(y_test.shape)"
      ],
      "metadata": {
        "colab": {
          "base_uri": "https://localhost:8080/"
        },
        "id": "YUKRjJTwLJi7",
        "outputId": "41c3885a-b715-4091-e96a-efb840c5a556"
      },
      "execution_count": null,
      "outputs": [
        {
          "output_type": "execute_result",
          "data": {
            "text/plain": [
              "((105300, 1), (105300, 1))"
            ]
          },
          "metadata": {},
          "execution_count": 124
        }
      ]
    },
    {
      "cell_type": "code",
      "source": [
        "f1_score(y_test,pred,average = 'weighted')"
      ],
      "metadata": {
        "colab": {
          "base_uri": "https://localhost:8080/"
        },
        "id": "zM3T3C0PLLrr",
        "outputId": "43a38c5e-6174-4ed3-964e-d665d096495e"
      },
      "execution_count": null,
      "outputs": [
        {
          "output_type": "execute_result",
          "data": {
            "text/plain": [
              "0.0663640048651911"
            ]
          },
          "metadata": {},
          "execution_count": 125
        }
      ]
    },
    {
      "cell_type": "code",
      "source": [
        "precision_score(y_test,pred,average = 'weighted')"
      ],
      "metadata": {
        "colab": {
          "base_uri": "https://localhost:8080/"
        },
        "id": "oyuaA5DGLN9t",
        "outputId": "7e8a5fe4-0d19-4d1d-b3c8-ae10ffc3c692"
      },
      "execution_count": null,
      "outputs": [
        {
          "output_type": "execute_result",
          "data": {
            "text/plain": [
              "0.43350931641999363"
            ]
          },
          "metadata": {},
          "execution_count": 126
        }
      ]
    },
    {
      "cell_type": "code",
      "source": [
        "recall_score(y_test,pred,average = 'weighted')"
      ],
      "metadata": {
        "colab": {
          "base_uri": "https://localhost:8080/"
        },
        "id": "kzKSeC5qLQSI",
        "outputId": "78f9f7d2-84e4-4757-ed56-67dedbd580ff"
      },
      "execution_count": null,
      "outputs": [
        {
          "output_type": "stream",
          "name": "stderr",
          "text": [
            "/usr/local/lib/python3.7/dist-packages/sklearn/metrics/_classification.py:1318: UndefinedMetricWarning: Recall is ill-defined and being set to 0.0 in labels with no true samples. Use `zero_division` parameter to control this behavior.\n",
            "  _warn_prf(average, modifier, msg_start, len(result))\n"
          ]
        },
        {
          "output_type": "execute_result",
          "data": {
            "text/plain": [
              "0.042896486229819564"
            ]
          },
          "metadata": {},
          "execution_count": 127
        }
      ]
    },
    {
      "cell_type": "markdown",
      "source": [
        "# **CREATING GRU MODEL**"
      ],
      "metadata": {
        "id": "b_5d0vHrhzlo"
      }
    },
    {
      "cell_type": "code",
      "source": [
        "#Defining a simple GRU model\n",
        "\n",
        "inputs=Input((300,))\n",
        "#Adding an embedding layer\n",
        "embedding_layer=layers.Embedding(input_dim=len(np.unique(vocab_main)) +1,output_dim=300,mask_zero=True)(inputs)\n",
        "#Adding a GRU layer with dropout layer\n",
        "GRU_Layer1=layers.GRU(300,return_sequences=True)(embedding_layer)\n",
        "dropout_1=layers.Dropout(0.1)(GRU_Layer1)\n",
        "#Adding a GRU layer with dropout layer\n",
        "GRU_Layer2=layers.GRU(300,return_sequences=True)(dropout_1)\n",
        "dropout_2=layers.Dropout(0.1)(GRU_Layer2)\n",
        "#Adding a Dense layer with dropout layer\n",
        "dense_layer=layers.Dense(300,activation='relu')(dropout_2)\n",
        "dropout_3=layers.Dropout(0.1)(dense_layer)\n",
        "#Adding a output Dense layer\n",
        "outputs=layers.Dense(300,activation='softmax')(dropout_3)\n",
        "GRU_model=Model(inputs,outputs)\n",
        "GRU_model.summary()"
      ],
      "metadata": {
        "colab": {
          "base_uri": "https://localhost:8080/"
        },
        "id": "1EUVCi2uZvS2",
        "outputId": "3371b0ce-cc7d-4ab5-9dc2-b8f37c5ce763"
      },
      "execution_count": null,
      "outputs": [
        {
          "output_type": "stream",
          "name": "stdout",
          "text": [
            "Model: \"model_3\"\n",
            "_________________________________________________________________\n",
            " Layer (type)                Output Shape              Param #   \n",
            "=================================================================\n",
            " input_8 (InputLayer)        [(None, 300)]             0         \n",
            "                                                                 \n",
            " embedding_6 (Embedding)     (None, 300, 300)          13726200  \n",
            "                                                                 \n",
            " gru_5 (GRU)                 (None, 300, 300)          541800    \n",
            "                                                                 \n",
            " dropout_12 (Dropout)        (None, 300, 300)          0         \n",
            "                                                                 \n",
            " gru_6 (GRU)                 (None, 300, 300)          541800    \n",
            "                                                                 \n",
            " dropout_13 (Dropout)        (None, 300, 300)          0         \n",
            "                                                                 \n",
            " dense_6 (Dense)             (None, 300, 300)          90300     \n",
            "                                                                 \n",
            " dropout_14 (Dropout)        (None, 300, 300)          0         \n",
            "                                                                 \n",
            " dense_7 (Dense)             (None, 300, 300)          90300     \n",
            "                                                                 \n",
            "=================================================================\n",
            "Total params: 14,990,400\n",
            "Trainable params: 14,990,400\n",
            "Non-trainable params: 0\n",
            "_________________________________________________________________\n"
          ]
        }
      ]
    },
    {
      "cell_type": "code",
      "source": [
        "#compile the model with optimizer as adam and loss as sparse categorical crossentropy and metrics as accuracy \n",
        "GRU_model.compile(loss=\"sparse_categorical_crossentropy\", optimizer=\"adam\", metrics=\"accuracy\")"
      ],
      "metadata": {
        "id": "cwUP3P7bi8Cx"
      },
      "execution_count": null,
      "outputs": []
    },
    {
      "cell_type": "code",
      "source": [
        "# Train the model with appropriate batch size and number of epochs\n",
        "#batch_size = 30\n",
        "num_epochs = 2\n",
        "history = GRU_model.fit(X_train, y_train, epochs=num_epochs,batch_size = 30)"
      ],
      "metadata": {
        "colab": {
          "base_uri": "https://localhost:8080/"
        },
        "id": "Ati7bV1QjAJH",
        "outputId": "cb2e7f9e-64ce-4ca9-834e-aad980a67c7e"
      },
      "execution_count": null,
      "outputs": [
        {
          "output_type": "stream",
          "name": "stdout",
          "text": [
            "Epoch 1/2\n",
            "47/47 [==============================] - 177s 4s/step - loss: 1.3649 - accuracy: 0.7825\n",
            "Epoch 2/2\n",
            "47/47 [==============================] - 173s 4s/step - loss: 0.6051 - accuracy: 0.8198\n"
          ]
        }
      ]
    },
    {
      "cell_type": "code",
      "source": [
        "# Evaluate the model on the custom test set and report the accuracy\n",
        "GRU_accuracy = GRU_model.evaluate(X_test, y_test)[1]\n",
        "print(f'The accuracy for the GRU model is {100*GRU_accuracy:.2f}%')\n"
      ],
      "metadata": {
        "id": "H9_xZbK1wn-l",
        "colab": {
          "base_uri": "https://localhost:8080/"
        },
        "outputId": "27eb52f9-fe58-4e8e-e523-0c099bae18d3"
      },
      "execution_count": null,
      "outputs": [
        {
          "output_type": "stream",
          "name": "stdout",
          "text": [
            "11/11 [==============================] - 12s 787ms/step - loss: 0.5270 - accuracy: 0.8394\n",
            "The accuracy for the GRU model is 83.94%\n"
          ]
        }
      ]
    },
    {
      "cell_type": "code",
      "source": [
        "# Predict on the test set\n",
        "pred = GRU_model.predict(X_test)\n",
        "pred = pred.argmax(axis=1)"
      ],
      "metadata": {
        "id": "ga2XlwGCKYJG"
      },
      "execution_count": null,
      "outputs": []
    },
    {
      "cell_type": "code",
      "source": [
        "#reshaping itbecause it is multidimensional array\n",
        "pred = pred.reshape(-1,1)\n",
        "y_test = y_test.reshape(-1,1)"
      ],
      "metadata": {
        "id": "HVnJoOzHKZ-m"
      },
      "execution_count": null,
      "outputs": []
    },
    {
      "cell_type": "code",
      "source": [
        "#checking the shapes of pred and y_test\n",
        "(pred.shape),(y_test.shape)"
      ],
      "metadata": {
        "colab": {
          "base_uri": "https://localhost:8080/"
        },
        "id": "cXFSHFSIKclz",
        "outputId": "cbd738db-dd25-4d9f-aa7d-6ab41784e3b3"
      },
      "execution_count": null,
      "outputs": [
        {
          "output_type": "execute_result",
          "data": {
            "text/plain": [
              "((105300, 1), (105300, 1))"
            ]
          },
          "metadata": {},
          "execution_count": 118
        }
      ]
    },
    {
      "cell_type": "code",
      "source": [
        "f1_score(y_test,pred,average = 'weighted')"
      ],
      "metadata": {
        "colab": {
          "base_uri": "https://localhost:8080/"
        },
        "id": "hM9NQqZMKjR4",
        "outputId": "e48e7866-a484-4b2f-9201-7d6c532aa3ec"
      },
      "execution_count": null,
      "outputs": [
        {
          "output_type": "execute_result",
          "data": {
            "text/plain": [
              "0.08380340621218234"
            ]
          },
          "metadata": {},
          "execution_count": 119
        }
      ]
    },
    {
      "cell_type": "code",
      "source": [
        "precision_score(y_test,pred,average = 'weighted')"
      ],
      "metadata": {
        "colab": {
          "base_uri": "https://localhost:8080/"
        },
        "id": "4j0H37vsKmGx",
        "outputId": "005a87f4-ecc3-4eb3-c02e-8bc804132139"
      },
      "execution_count": null,
      "outputs": [
        {
          "output_type": "execute_result",
          "data": {
            "text/plain": [
              "0.2884786285269536"
            ]
          },
          "metadata": {},
          "execution_count": 120
        }
      ]
    },
    {
      "cell_type": "code",
      "source": [
        "recall_score(y_test,pred,average = 'weighted')"
      ],
      "metadata": {
        "colab": {
          "base_uri": "https://localhost:8080/"
        },
        "id": "YLr5gb8wKo8t",
        "outputId": "74d64133-24fa-454c-909e-8cbadae4b6cd"
      },
      "execution_count": null,
      "outputs": [
        {
          "output_type": "stream",
          "name": "stderr",
          "text": [
            "/usr/local/lib/python3.7/dist-packages/sklearn/metrics/_classification.py:1318: UndefinedMetricWarning: Recall is ill-defined and being set to 0.0 in labels with no true samples. Use `zero_division` parameter to control this behavior.\n",
            "  _warn_prf(average, modifier, msg_start, len(result))\n"
          ]
        },
        {
          "output_type": "execute_result",
          "data": {
            "text/plain": [
              "0.08910731244064578"
            ]
          },
          "metadata": {},
          "execution_count": 121
        }
      ]
    },
    {
      "cell_type": "markdown",
      "source": [
        "# **CREATING LSTM MODEL**"
      ],
      "metadata": {
        "id": "L2fqpVTJJSFs"
      }
    },
    {
      "cell_type": "code",
      "source": [
        "#Defining a LSTM model\n",
        "LSTM_model= Sequential(name=\"LSTM\")\n",
        "inputs=Input((300,))\n",
        "#Adding an embedding layer\n",
        "embedding_layer=layers.Embedding(input_dim=len(np.unique(vocab_main)) +1,output_dim=300,mask_zero=True)(inputs)\n",
        "#Adding a LSTM layer along with dropout layer\n",
        "LSTM_Layer1=layers.LSTM(300,return_sequences=True)(embedding_layer)\n",
        "dropout_1=layers.Dropout(0.1)(LSTM_Layer1)\n",
        "#Adding a LSTM layer along with dropout layer\n",
        "LSTM_Layer2=layers.LSTM(300,return_sequences=True)(dropout_1)\n",
        "dropout_2=layers.Dropout(0.1)(LSTM_Layer2)\n",
        "#Adding a Dense layer along with dropout layer\n",
        "dense_layer=layers.Dense(300,activation='relu')(dropout_2)\n",
        "dropout_3=layers.Dropout(0.1)(dense_layer)\n",
        "#Adding a output Dense layer\n",
        "outputs=layers.Dense(300,activation='softmax')(dropout_3)\n",
        "LSTM_model=Model(inputs,outputs)\n",
        "LSTM_model.summary()"
      ],
      "metadata": {
        "colab": {
          "base_uri": "https://localhost:8080/"
        },
        "id": "XpJoBTHaaPb3",
        "outputId": "25092954-3ee4-4c39-bbb1-e2d4e0852876"
      },
      "execution_count": null,
      "outputs": [
        {
          "output_type": "stream",
          "name": "stdout",
          "text": [
            "Model: \"model_5\"\n",
            "_________________________________________________________________\n",
            " Layer (type)                Output Shape              Param #   \n",
            "=================================================================\n",
            " input_10 (InputLayer)       [(None, 300)]             0         \n",
            "                                                                 \n",
            " embedding_8 (Embedding)     (None, 300, 300)          13726200  \n",
            "                                                                 \n",
            " lstm_2 (LSTM)               (None, 300, 300)          721200    \n",
            "                                                                 \n",
            " dropout_18 (Dropout)        (None, 300, 300)          0         \n",
            "                                                                 \n",
            " lstm_3 (LSTM)               (None, 300, 300)          721200    \n",
            "                                                                 \n",
            " dropout_19 (Dropout)        (None, 300, 300)          0         \n",
            "                                                                 \n",
            " dense_10 (Dense)            (None, 300, 300)          90300     \n",
            "                                                                 \n",
            " dropout_20 (Dropout)        (None, 300, 300)          0         \n",
            "                                                                 \n",
            " dense_11 (Dense)            (None, 300, 300)          90300     \n",
            "                                                                 \n",
            "=================================================================\n",
            "Total params: 15,349,200\n",
            "Trainable params: 15,349,200\n",
            "Non-trainable params: 0\n",
            "_________________________________________________________________\n"
          ]
        }
      ]
    },
    {
      "cell_type": "code",
      "source": [
        "#compile the model with optimizer as adam and loss as sparse categorical crossentropy and metrics as accuracy \n",
        "LSTM_model.compile(loss=\"sparse_categorical_crossentropy\", optimizer=\"adam\", metrics=\"accuracy\")"
      ],
      "metadata": {
        "id": "-zNcG9LuJjL7"
      },
      "execution_count": null,
      "outputs": []
    },
    {
      "cell_type": "code",
      "source": [
        "# Train the model with appropriate batch size and number of epochs\n",
        "num_epochs = 2\n",
        "history = LSTM_model.fit(X_train, y_train, epochs=num_epochs,batch_size = 30)"
      ],
      "metadata": {
        "id": "cjRmkSjvJlqh",
        "colab": {
          "base_uri": "https://localhost:8080/"
        },
        "outputId": "0d36d6bd-7185-4881-bf24-bfe75e7d7d26"
      },
      "execution_count": null,
      "outputs": [
        {
          "output_type": "stream",
          "name": "stdout",
          "text": [
            "Epoch 1/2\n",
            "47/47 [==============================] - 184s 4s/step - loss: 1.2146 - accuracy: 0.7858\n",
            "Epoch 2/2\n",
            "47/47 [==============================] - 169s 4s/step - loss: 0.8240 - accuracy: 0.8005\n"
          ]
        }
      ]
    },
    {
      "cell_type": "code",
      "source": [
        "# Evaluate the model on the custom test set and report the accuracy\n",
        "LSTM_accuracy = LSTM_model.evaluate(X_test, y_test)[1]\n",
        "print(f'The accuracy for the LSTM model is {100*LSTM_accuracy:.2f}%')"
      ],
      "metadata": {
        "id": "CAXlRoIKJrXb",
        "colab": {
          "base_uri": "https://localhost:8080/"
        },
        "outputId": "0702c5dd-dd5b-40da-ea01-ff0315647d19"
      },
      "execution_count": null,
      "outputs": [
        {
          "output_type": "stream",
          "name": "stdout",
          "text": [
            "11/11 [==============================] - 16s 1s/step - loss: 0.8246 - accuracy: 0.7882\n",
            "The accuracy for the LSTM model is 78.82%\n"
          ]
        }
      ]
    },
    {
      "cell_type": "code",
      "source": [
        "# Predict on the test set\n",
        "pred = LSTM_model.predict(X_test)\n",
        "pred = pred.argmax(axis=1)"
      ],
      "metadata": {
        "id": "T5x7qaCIFR6Z"
      },
      "execution_count": null,
      "outputs": []
    },
    {
      "cell_type": "code",
      "source": [
        "#reshaping itbecause it is multidimensional array\n",
        "pred = pred.reshape(-1,1)\n",
        "y_test = y_test.reshape(-1,1)"
      ],
      "metadata": {
        "id": "67iWwpdrISOD"
      },
      "execution_count": null,
      "outputs": []
    },
    {
      "cell_type": "code",
      "source": [
        "(pred.shape),(y_test.shape)"
      ],
      "metadata": {
        "colab": {
          "base_uri": "https://localhost:8080/"
        },
        "id": "UzruLN0zIMf1",
        "outputId": "a18366b6-8694-4635-9e90-36520942a857"
      },
      "execution_count": null,
      "outputs": [
        {
          "output_type": "execute_result",
          "data": {
            "text/plain": [
              "((105300, 1), (105300, 1))"
            ]
          },
          "metadata": {},
          "execution_count": 115
        }
      ]
    },
    {
      "cell_type": "code",
      "source": [
        "f1_score(y_test,pred,average = 'weighted')"
      ],
      "metadata": {
        "colab": {
          "base_uri": "https://localhost:8080/"
        },
        "id": "60gEWsCLHt0D",
        "outputId": "d73b58f6-2680-41a3-d684-98ec78bffb22"
      },
      "execution_count": null,
      "outputs": [
        {
          "output_type": "execute_result",
          "data": {
            "text/plain": [
              "0.2585558443144341"
            ]
          },
          "metadata": {},
          "execution_count": 110
        }
      ]
    },
    {
      "cell_type": "code",
      "source": [
        "precision_score(y_test,pred,average = 'weighted')"
      ],
      "metadata": {
        "colab": {
          "base_uri": "https://localhost:8080/"
        },
        "id": "X6GBvhQzJANw",
        "outputId": "130b7595-bbd0-47f9-8d6b-e169cb180bcc"
      },
      "execution_count": null,
      "outputs": [
        {
          "output_type": "stream",
          "name": "stderr",
          "text": [
            "/usr/local/lib/python3.7/dist-packages/sklearn/metrics/_classification.py:1318: UndefinedMetricWarning: Precision is ill-defined and being set to 0.0 in labels with no predicted samples. Use `zero_division` parameter to control this behavior.\n",
            "  _warn_prf(average, modifier, msg_start, len(result))\n"
          ]
        },
        {
          "output_type": "execute_result",
          "data": {
            "text/plain": [
              "0.569721305522749"
            ]
          },
          "metadata": {},
          "execution_count": 111
        }
      ]
    },
    {
      "cell_type": "code",
      "source": [
        "recall_score(y_test,pred,average = 'weighted')"
      ],
      "metadata": {
        "colab": {
          "base_uri": "https://localhost:8080/"
        },
        "id": "2sEjTPYoJIFZ",
        "outputId": "caec994f-39ed-41eb-c7b4-8501f4633ab2"
      },
      "execution_count": null,
      "outputs": [
        {
          "output_type": "stream",
          "name": "stderr",
          "text": [
            "/usr/local/lib/python3.7/dist-packages/sklearn/metrics/_classification.py:1318: UndefinedMetricWarning: Recall is ill-defined and being set to 0.0 in labels with no true samples. Use `zero_division` parameter to control this behavior.\n",
            "  _warn_prf(average, modifier, msg_start, len(result))\n"
          ]
        },
        {
          "output_type": "execute_result",
          "data": {
            "text/plain": [
              "0.36148148148148146"
            ]
          },
          "metadata": {},
          "execution_count": 112
        }
      ]
    }
  ]
}